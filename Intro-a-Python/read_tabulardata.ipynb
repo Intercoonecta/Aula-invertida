{
 "cells": [
  {
   "cell_type": "markdown",
   "id": "c6ce1da1-f2c0-4422-9979-6058ecc2c0f2",
   "metadata": {},
   "source": [
    "# Lectura de datos de matrices, "
   ]
  },
  {
   "cell_type": "code",
   "execution_count": 1,
   "id": "54a3c1fc-b51f-4232-9651-eaa1f1ecf5bc",
   "metadata": {},
   "outputs": [],
   "source": [
    "# Procesar Datos de Tablas/Matrices\n",
    "# Que son las librerias y para que se usan\n",
    "# Seleccionar valores específicos de una matriz\n",
    "# Leer archivos netcdf\n",
    "# Realizar operaciones matemáticas/estadísticas en matrices/tablas"
   ]
  },
  {
   "cell_type": "code",
   "execution_count": 2,
   "id": "8bc4f2a0-8684-41a9-b33e-259c658d6d97",
   "metadata": {},
   "outputs": [],
   "source": [
    "import numpy as np # numerical python\n",
    "import netCDF4 as nc"
   ]
  },
  {
   "cell_type": "markdown",
   "id": "a232f4d2-a67e-4057-9fd0-b2da19835945",
   "metadata": {},
   "source": [
    "#  Numpy arrays"
   ]
  },
  {
   "cell_type": "code",
   "execution_count": 3,
   "id": "e4552b5d-7360-4422-b74a-108f2568e1ea",
   "metadata": {},
   "outputs": [],
   "source": [
    "# Ver presentación"
   ]
  },
  {
   "cell_type": "code",
   "execution_count": 4,
   "id": "1024fba7-2cc2-406f-847d-998a5c346f22",
   "metadata": {},
   "outputs": [],
   "source": [
    "spy = np.array([1, 4, 5.0, 6])"
   ]
  },
  {
   "cell_type": "code",
   "execution_count": 5,
   "id": "457aca2d-d6cf-4971-b71d-1b155118cc2c",
   "metadata": {},
   "outputs": [
    {
     "data": {
      "text/plain": [
       "numpy.ndarray"
      ]
     },
     "execution_count": 5,
     "metadata": {},
     "output_type": "execute_result"
    }
   ],
   "source": [
    "type(spy) # variable es un numpy arrray pero no dice que hay dentro de spy"
   ]
  },
  {
   "cell_type": "code",
   "execution_count": 6,
   "id": "abb3f673-d338-4e60-bb34-42d8613e01cf",
   "metadata": {},
   "outputs": [],
   "source": [
    "# Podemos utilizar el punto spy.dtype ya que dtype es una función de numpy"
   ]
  },
  {
   "cell_type": "code",
   "execution_count": 7,
   "id": "7b1a6fcd-c8d6-499f-b4f6-980ca0d36460",
   "metadata": {},
   "outputs": [
    {
     "name": "stdout",
     "output_type": "stream",
     "text": [
      "float64\n"
     ]
    }
   ],
   "source": [
    "print(spy.dtype) # Tipo de datos dentro del array spy"
   ]
  },
  {
   "cell_type": "code",
   "execution_count": 8,
   "id": "75918627-f92a-40b9-9a66-b970eb5f10a0",
   "metadata": {},
   "outputs": [
    {
     "name": "stdout",
     "output_type": "stream",
     "text": [
      "(4,)\n",
      "(4,)\n",
      "6.0\n",
      "6.0\n"
     ]
    }
   ],
   "source": [
    "print(spy.shape) # tamaño de variable spy\n",
    "print(np.shape(spy))\n",
    "print(spy[3])\n",
    "print(spy[-1])"
   ]
  },
  {
   "cell_type": "code",
   "execution_count": 9,
   "id": "ad1f4a6f-bc93-4089-939f-aa6fbb264287",
   "metadata": {},
   "outputs": [
    {
     "name": "stdout",
     "output_type": "stream",
     "text": [
      "primer valor en los datos: 1.0\n"
     ]
    }
   ],
   "source": [
    "print('primer valor en los datos:', spy[0]) # 0 es el indice 1 en Python\n"
   ]
  },
  {
   "cell_type": "markdown",
   "id": "5cc34d92-d905-4aa3-8a57-2d3b62d33157",
   "metadata": {
    "tags": []
   },
   "source": [
    "# Slicing data"
   ]
  },
  {
   "cell_type": "markdown",
   "id": "f9f13f69-dcab-40dd-968d-dc6e311dee6e",
   "metadata": {},
   "source": [
    "Podemos seleccionar un indíce o una sección del vector"
   ]
  },
  {
   "cell_type": "code",
   "execution_count": 10,
   "id": "c3944c52-7195-4c69-9f6b-6e5510333a9c",
   "metadata": {},
   "outputs": [
    {
     "name": "stdout",
     "output_type": "stream",
     "text": [
      "[1. 4. 5. 6.]\n"
     ]
    }
   ],
   "source": [
    "print(spy)"
   ]
  },
  {
   "cell_type": "code",
   "execution_count": 11,
   "id": "a4f425d8-efc3-444b-b074-827e070871fd",
   "metadata": {},
   "outputs": [
    {
     "name": "stdout",
     "output_type": "stream",
     "text": [
      "[5. 6.]\n",
      "[4. 5.]\n"
     ]
    }
   ],
   "source": [
    "print(spy[2:]) # empieza en el índice 2 hasta el final\n",
    "print(spy[1:3]) # empieza en el índice 1 pero no incluye el 3"
   ]
  },
  {
   "cell_type": "code",
   "execution_count": 12,
   "id": "459741a4-58e9-47a7-93ff-8317d769301d",
   "metadata": {},
   "outputs": [
    {
     "name": "stdout",
     "output_type": "stream",
     "text": [
      "[1. 4.]\n"
     ]
    }
   ],
   "source": [
    "# No tenemos que incluir el límite inferior ni superior\n",
    "print(spy[:2]) # significa desde el índice 0 hasta el 4"
   ]
  },
  {
   "cell_type": "code",
   "execution_count": 13,
   "id": "3b965e06-17b2-4230-bdc9-5c89cd9e707d",
   "metadata": {},
   "outputs": [
    {
     "name": "stdout",
     "output_type": "stream",
     "text": [
      "4.0\n"
     ]
    }
   ],
   "source": [
    "print(np.mean(spy)) # numpy tiene funciones que realizan operaciones en el vector"
   ]
  },
  {
   "cell_type": "code",
   "execution_count": 14,
   "id": "109b9e64-13a7-4172-bbec-7bd924caf916",
   "metadata": {},
   "outputs": [
    {
     "name": "stdout",
     "output_type": "stream",
     "text": [
      "4.0\n",
      "1.8708286933869707\n"
     ]
    }
   ],
   "source": [
    "print(spy.mean())\n",
    "print(spy.std())"
   ]
  },
  {
   "cell_type": "markdown",
   "id": "2bf6c173-602b-465c-90b2-498ac70c0594",
   "metadata": {},
   "source": [
    "# Reading netCDF"
   ]
  },
  {
   "cell_type": "code",
   "execution_count": 15,
   "id": "42b7a19a-cd9f-4180-ba9e-fbd183f15d51",
   "metadata": {},
   "outputs": [],
   "source": [
    "# Ahora utilizemos datos atmósfericos para algo más complicado"
   ]
  },
  {
   "cell_type": "code",
   "execution_count": 16,
   "id": "b05ab355-9273-48d3-b69a-eab0bafa85f3",
   "metadata": {},
   "outputs": [],
   "source": [
    "fileobj = nc.Dataset('ERA5_Coarse.nc') # Lee el archivo netcdf nc la extension"
   ]
  },
  {
   "cell_type": "code",
   "execution_count": 17,
   "id": "f19e2d1a-bb1b-428a-8991-9af1d7e73f59",
   "metadata": {},
   "outputs": [],
   "source": [
    "# netCDF network Common Data Form formato que guarda datos MULTIDIMENSIONALES"
   ]
  },
  {
   "cell_type": "code",
   "execution_count": 18,
   "id": "82fdb213-e5c4-4e36-ba71-823028868785",
   "metadata": {},
   "outputs": [
    {
     "name": "stdout",
     "output_type": "stream",
     "text": [
      "<class 'netCDF4._netCDF4.Dataset'>\n",
      "root group (NETCDF4 data model, file format HDF5):\n",
      "    history: Wed Nov 30 09:40:40 2022: ncks -F -d time,1,,10 ERA5_Coarse.nc ERA5_test.nc\n",
      "    NCO: netCDF Operators version 4.7.6 (Homepage = http://nco.sf.net, Code = http://github.com/nco/nco)\n",
      "    dimensions(sizes): latitude(180), longitude(360), time(76)\n",
      "    variables(dimensions): float32 latitude(latitude), float32 longitude(longitude), int16 sp(time, latitude, longitude), int16 sst(time, latitude, longitude), int16 t2m(time, latitude, longitude), float32 t2m_F(time, latitude, longitude), int32 time(time), int16 tp(time, latitude, longitude), int16 u10(time, latitude, longitude), int16 v10(time, latitude, longitude)\n",
      "    groups: \n"
     ]
    }
   ],
   "source": [
    "print(fileobj)"
   ]
  },
  {
   "cell_type": "code",
   "execution_count": 19,
   "id": "b8acfe42-9945-485e-87d3-d46aac8b0ef2",
   "metadata": {},
   "outputs": [
    {
     "name": "stdout",
     "output_type": "stream",
     "text": [
      "dict_keys(['latitude', 'longitude', 'sp', 'sst', 't2m', 't2m_F', 'time', 'tp', 'u10', 'v10'])\n"
     ]
    }
   ],
   "source": [
    "print(fileobj.variables.keys())"
   ]
  },
  {
   "cell_type": "code",
   "execution_count": 20,
   "id": "c221bf15-16df-4b7e-9e68-7e9fd27695bf",
   "metadata": {},
   "outputs": [
    {
     "name": "stdout",
     "output_type": "stream",
     "text": [
      "dict_keys(['latitude', 'longitude', 'sp', 'sst', 't2m', 't2m_F', 'time', 'tp', 'u10', 'v10'])\n"
     ]
    }
   ],
   "source": [
    "print(fileobj.variables.keys()) # siempre revisar que variables hay en el archivo"
   ]
  },
  {
   "cell_type": "code",
   "execution_count": 21,
   "id": "81622cb3-2096-434f-8b22-01bbdd90cc95",
   "metadata": {},
   "outputs": [],
   "source": [
    "# Guarda en la memoria virtual estas variables\n",
    "lon = fileobj['longitude']\n",
    "lat = fileobj['latitude']\n",
    "time = fileobj['time']"
   ]
  },
  {
   "cell_type": "code",
   "execution_count": 22,
   "id": "b98b5d77-2054-45be-bcb1-afdc2e2af5de",
   "metadata": {},
   "outputs": [
    {
     "name": "stdout",
     "output_type": "stream",
     "text": [
      "<class 'netCDF4._netCDF4.Variable'>\n",
      "float32 longitude(longitude)\n",
      "    _FillValue: nan\n",
      "    units: degrees_east\n",
      "    long_name: longitude\n",
      "unlimited dimensions: \n",
      "current shape = (360,)\n",
      "filling on\n"
     ]
    }
   ],
   "source": [
    "print(lon)"
   ]
  },
  {
   "cell_type": "code",
   "execution_count": 23,
   "id": "febc8090-5ce1-4c07-a223-82677059f92b",
   "metadata": {},
   "outputs": [
    {
     "name": "stdout",
     "output_type": "stream",
     "text": [
      "<class 'netCDF4._netCDF4.Variable'>\n",
      "float32 latitude(latitude)\n",
      "    _FillValue: nan\n",
      "    units: degrees_north\n",
      "    long_name: latitude\n",
      "unlimited dimensions: \n",
      "current shape = (180,)\n",
      "filling on\n"
     ]
    }
   ],
   "source": [
    "print(lat) # nos da una explicación sobre la variable"
   ]
  },
  {
   "cell_type": "code",
   "execution_count": 24,
   "id": "53cf2b46-97b0-4857-a6c5-b3c803dbdded",
   "metadata": {},
   "outputs": [],
   "source": [
    "sst = fileobj['sst'] "
   ]
  },
  {
   "cell_type": "code",
   "execution_count": 25,
   "id": "533e315a-4504-41a1-87be-6655584b3a4f",
   "metadata": {},
   "outputs": [
    {
     "name": "stdout",
     "output_type": "stream",
     "text": [
      "<class 'netCDF4._netCDF4.Variable'>\n",
      "int16 sst(time, latitude, longitude)\n",
      "    _FillValue: -32767\n",
      "    units: K\n",
      "    long_name: Sea surface temperature\n",
      "    add_offset: 289.4649014722902\n",
      "    scale_factor: 0.0006169772945977599\n",
      "    missing_value: -32767\n",
      "unlimited dimensions: \n",
      "current shape = (76, 180, 360)\n",
      "filling on\n"
     ]
    }
   ],
   "source": [
    "print(sst) # cuantas dimensiones tiene esta variable"
   ]
  },
  {
   "cell_type": "code",
   "execution_count": 26,
   "id": "c1841f16-53fd-4a92-a078-18da8ed8e897",
   "metadata": {},
   "outputs": [],
   "source": [
    "sst = fileobj['sst'][:] # que son los dos puntitos"
   ]
  },
  {
   "cell_type": "code",
   "execution_count": 27,
   "id": "f3020e81-2e84-42e2-966a-31988a0927e3",
   "metadata": {},
   "outputs": [
    {
     "name": "stdout",
     "output_type": "stream",
     "text": [
      "(76, 180, 360)\n"
     ]
    }
   ],
   "source": [
    "print(np.shape(sst))"
   ]
  },
  {
   "cell_type": "code",
   "execution_count": 28,
   "id": "6aa5dfa6-154b-42d6-91f9-2b0fed8441e8",
   "metadata": {},
   "outputs": [
    {
     "name": "stdout",
     "output_type": "stream",
     "text": [
      "(76, 180, 360)\n"
     ]
    }
   ],
   "source": [
    "print(sst.shape) # cuantas dimensiones tiene esta variable"
   ]
  },
  {
   "cell_type": "markdown",
   "id": "0871b331-54b7-4253-afd0-0d637d6dd848",
   "metadata": {},
   "source": [
    "Numpy tiene funciones útiles para analizar datos!"
   ]
  },
  {
   "cell_type": "code",
   "execution_count": 29,
   "id": "92b513d9-e743-4581-8cc2-0202faff02de",
   "metadata": {},
   "outputs": [
    {
     "name": "stdout",
     "output_type": "stream",
     "text": [
      "11.664515743159109\n",
      "11.664515743159109\n"
     ]
    }
   ],
   "source": [
    "print(sst.std())\n",
    "print(np.std(sst))"
   ]
  },
  {
   "cell_type": "code",
   "execution_count": 30,
   "id": "71bb2070-5654-4384-bd11-78547a24ce8b",
   "metadata": {},
   "outputs": [
    {
     "name": "stdout",
     "output_type": "stream",
     "text": [
      "286.64469091892795\n"
     ]
    }
   ],
   "source": [
    "print(sst.mean()) # Si quieres el promedio de todos los datos"
   ]
  },
  {
   "cell_type": "code",
   "execution_count": 31,
   "id": "0bc119d6-2797-4373-a36a-9b8b200482d4",
   "metadata": {},
   "outputs": [],
   "source": [
    "sst_C = sst - 273.15"
   ]
  },
  {
   "cell_type": "code",
   "execution_count": 32,
   "id": "bb6d2f43-8616-4b60-a7f2-dad14b58c8a8",
   "metadata": {},
   "outputs": [
    {
     "name": "stdout",
     "output_type": "stream",
     "text": [
      "13.49469091892794\n"
     ]
    }
   ],
   "source": [
    "print(sst_C.mean())"
   ]
  },
  {
   "cell_type": "code",
   "execution_count": 33,
   "id": "52bab89f-ed66-4a93-8ace-e73d9ef03786",
   "metadata": {},
   "outputs": [],
   "source": [
    "maxval, minval, stdval = np.max(sst_C), np.min(sst_C), np.std(sst_C)\n"
   ]
  },
  {
   "cell_type": "code",
   "execution_count": 34,
   "id": "69a1dda1-45b8-40d9-8011-4a1a5ad6b1d0",
   "metadata": {},
   "outputs": [
    {
     "name": "stdout",
     "output_type": "stream",
     "text": [
      "Max SST: 35.20181041451684\n",
      "Min SST: -3.7202022151828373\n",
      "Desviación Standard: 11.664515743159109\n"
     ]
    }
   ],
   "source": [
    "print('Max SST:', maxval)\n",
    "print('Min SST:', minval)\n",
    "print('Desviación Standard:', stdval)"
   ]
  },
  {
   "cell_type": "markdown",
   "id": "c07d0282-8d65-4ff3-a18f-c69d9566fff5",
   "metadata": {},
   "source": [
    "Como saber que funciones tiene numpy. Escribir np y después tab. Intentálo!"
   ]
  },
  {
   "cell_type": "markdown",
   "id": "31fee00d-d204-4160-a030-cd77e536bdad",
   "metadata": {},
   "source": [
    "Cuando analizamos datos oceanográficos generalmente queremos saber el promedio sobre un area o tiempo específico"
   ]
  },
  {
   "cell_type": "code",
   "execution_count": 35,
   "id": "580dc15a-29be-4634-92dd-e8614ab3c38c",
   "metadata": {},
   "outputs": [],
   "source": [
    "# Ir a la presentación"
   ]
  },
  {
   "cell_type": "code",
   "execution_count": 36,
   "id": "41299cc7-554f-422a-9f02-0b02774aaff4",
   "metadata": {},
   "outputs": [
    {
     "name": "stdout",
     "output_type": "stream",
     "text": [
      "[[-1.6900627816757934 -1.6900627816757934 -1.6900627816757934 ...\n",
      "  -1.6900627816757934 -1.6900627816757934 -1.6900627816757934]\n",
      " [-1.6900627816757934 -1.6900627816757934 -1.6900627816757934 ...\n",
      "  -1.6900627816757934 -1.6900627816757934 -1.6900627816757934]\n",
      " [-1.6900627816757934 -1.6900627816757934 -1.6900627816757934 ...\n",
      "  -1.6900627816757934 -1.6900627816757934 -1.6900627816757934]\n",
      " ...\n",
      " [-- -- -- ... -- -- --]\n",
      " [-- -- -- ... -- -- --]\n",
      " [-- -- -- ... -- -- --]]\n"
     ]
    }
   ],
   "source": [
    "print(np.mean(sst_C, axis=0))"
   ]
  },
  {
   "cell_type": "code",
   "execution_count": 37,
   "id": "f7c084b7-842a-41e9-ab5b-248b1858665e",
   "metadata": {},
   "outputs": [
    {
     "name": "stdout",
     "output_type": "stream",
     "text": [
      "(180, 360)\n"
     ]
    }
   ],
   "source": [
    "# El promedio de la temperatura en cada lat y lon de todo el tiempo\n",
    "print(np.mean(sst_C, axis=0).shape)  # axis =0 es sobre dimensión 0 (tiempo)"
   ]
  },
  {
   "cell_type": "code",
   "execution_count": 38,
   "id": "a8ac93d6-1f12-4449-b472-7b48f745b1a1",
   "metadata": {},
   "outputs": [
    {
     "name": "stdout",
     "output_type": "stream",
     "text": [
      "(76, 360)\n"
     ]
    }
   ],
   "source": [
    "# El promedio de la temperatura sobre todos los renglones (latitud)\n",
    "print(np.mean(sst_C, axis=1).shape) # axis = 1 es sobre dimensión renglones (rows latitud)"
   ]
  },
  {
   "cell_type": "code",
   "execution_count": 39,
   "id": "e92f18e4-9d80-4ee7-9f5c-6ac7133a2a65",
   "metadata": {},
   "outputs": [
    {
     "data": {
      "text/plain": [
       "masked_array(data=[-1.6900627816757932, -1.690061857111865,\n",
       "                   -1.6900600079840085, -1.6900535360365103,\n",
       "                   -1.6900456208672703, -1.6891054521038797,\n",
       "                   -1.686248324062011, -1.6792765192429853,\n",
       "                   -1.6403246054695797, -1.5609386702966876,\n",
       "                   -1.4461518023553004, -1.3082913781553274,\n",
       "                   -1.1403758384320217, -0.943423783545596,\n",
       "                   -0.6915690992465369, -0.4712881403343141,\n",
       "                   -0.22907012259792267, 0.11508012411188989,\n",
       "                   0.44889696132124224, 0.8914475881563392,\n",
       "                   1.0429599563741545, 1.1663233833720656,\n",
       "                   1.636103118506971, 2.241147593066227,\n",
       "                   2.799852726299241, 3.269760396945605,\n",
       "                   4.004396526135544, 4.060160309547734,\n",
       "                   4.419624615004082, 4.77808907630022, 5.127337842051136,\n",
       "                   5.597598327018603, 5.9094834041951305,\n",
       "                   6.194083983599477, 6.416535904156285,\n",
       "                   6.760007065668459, 6.81884147747529, 7.287741044912575,\n",
       "                   7.555528062734827, 7.856548527046596,\n",
       "                   8.311047763247549, 8.491092782984436, 8.86404583864491,\n",
       "                   9.678875412641982, 10.476487072140397,\n",
       "                   11.363080641308933, 12.35709896499846,\n",
       "                   13.177536511592166, 14.26378248090216,\n",
       "                   15.432535731603236, 16.49039574797233,\n",
       "                   17.287302589695187, 18.12718047794208,\n",
       "                   18.835843242736104, 19.43123479604003,\n",
       "                   19.917631462919335, 20.537338064247002,\n",
       "                   21.053621480625775, 21.421599943611973,\n",
       "                   21.767951859701025, 22.490400462879375,\n",
       "                   22.97270642031224, 23.564670061410332,\n",
       "                   24.050349841910464, 24.549086722187305,\n",
       "                   24.86928665571274, 25.148881983343568,\n",
       "                   25.43613736176479, 25.722549064339624,\n",
       "                   25.999277652110287, 26.310031378121742,\n",
       "                   26.53942450828558, 26.77619849468478,\n",
       "                   26.998447355519232, 27.18966410785111,\n",
       "                   27.33471294352172, 27.480051165649527,\n",
       "                   27.593776505987073, 27.675066229563264,\n",
       "                   27.79179832056649, 27.953681533669478,\n",
       "                   28.06241639735102, 28.14216094752454,\n",
       "                   28.211738067234094, 28.18085003811479,\n",
       "                   28.137179377666342, 28.09736560347648,\n",
       "                   27.97616028803221, 27.7549944454619,\n",
       "                   27.458577174327566, 27.295641429630233,\n",
       "                   27.292633775023425, 27.373926397172536,\n",
       "                   27.40262388898102, 27.46626079791806,\n",
       "                   27.44169098062596, 27.412032922530802,\n",
       "                   27.321817395916348, 27.22819352853357,\n",
       "                   27.141187452002224, 27.004872487522892,\n",
       "                   26.872486502649906, 26.698423370443308,\n",
       "                   26.482552190508866, 26.21309845022507,\n",
       "                   25.88504980383961, 25.53886485159823,\n",
       "                   25.320836219413682, 24.999986095571956,\n",
       "                   24.69834232263907, 24.402336461290528,\n",
       "                   24.023498349660734, 23.686230289865332,\n",
       "                   23.359448351582056, 23.02911294395941,\n",
       "                   22.690617174331845, 22.297017412928426,\n",
       "                   21.904526234413826, 21.443534345232898,\n",
       "                   20.937691690709, 20.432342033763245,\n",
       "                   19.850258720233306, 19.279898250029998,\n",
       "                   18.699161925708022, 18.11498950737777,\n",
       "                   17.538503039448806, 16.921537970356646,\n",
       "                   16.288604055711247, 15.605177595324806,\n",
       "                   14.90542657053163, 14.116768136974384,\n",
       "                   13.268453296488719, 12.32491475886576,\n",
       "                   11.39028794108204, 10.467275602141296,\n",
       "                   9.592970978831993, 8.833197451543347,\n",
       "                   8.056823323116333, 7.321664143730162,\n",
       "                   6.555903842809338, 5.888792592303432,\n",
       "                   5.316652835278276, 4.772275668736719,\n",
       "                   4.226766814727954, 3.708810527111857,\n",
       "                   3.2121007941560102, 2.635846504089411,\n",
       "                   2.0867635693520055, 1.5841585985926834,\n",
       "                   1.096818110638708, 0.6389840882417369,\n",
       "                   0.20154407442504485, -0.18927798290461356,\n",
       "                   -0.5504901813696754, -0.8579514577414862,\n",
       "                   -1.1120566919006494, -1.2843884765251397,\n",
       "                   -1.366258299454193, -1.4547255272627648,\n",
       "                   -1.5452614780101954, -1.6058675909204294,\n",
       "                   -1.6378948831329712, -1.6480109585986986,\n",
       "                   -1.645554564541282, -1.6436517448695869,\n",
       "                   -1.6312074774363927, -1.6128009465161635,\n",
       "                   -1.6096892512879881, -1.602705627180892, --, --, --,\n",
       "                   --, --, --, --, --, --, --, --],\n",
       "             mask=[False, False, False, False, False, False, False, False,\n",
       "                   False, False, False, False, False, False, False, False,\n",
       "                   False, False, False, False, False, False, False, False,\n",
       "                   False, False, False, False, False, False, False, False,\n",
       "                   False, False, False, False, False, False, False, False,\n",
       "                   False, False, False, False, False, False, False, False,\n",
       "                   False, False, False, False, False, False, False, False,\n",
       "                   False, False, False, False, False, False, False, False,\n",
       "                   False, False, False, False, False, False, False, False,\n",
       "                   False, False, False, False, False, False, False, False,\n",
       "                   False, False, False, False, False, False, False, False,\n",
       "                   False, False, False, False, False, False, False, False,\n",
       "                   False, False, False, False, False, False, False, False,\n",
       "                   False, False, False, False, False, False, False, False,\n",
       "                   False, False, False, False, False, False, False, False,\n",
       "                   False, False, False, False, False, False, False, False,\n",
       "                   False, False, False, False, False, False, False, False,\n",
       "                   False, False, False, False, False, False, False, False,\n",
       "                   False, False, False, False, False, False, False, False,\n",
       "                   False, False, False, False, False, False, False, False,\n",
       "                   False, False, False, False, False, False, False, False,\n",
       "                   False,  True,  True,  True,  True,  True,  True,  True,\n",
       "                    True,  True,  True,  True],\n",
       "       fill_value=1e+20)"
      ]
     },
     "execution_count": 39,
     "metadata": {},
     "output_type": "execute_result"
    }
   ],
   "source": [
    "np.mean(sst_C, axis=0).mean(axis=1)"
   ]
  },
  {
   "cell_type": "markdown",
   "id": "ececda84-4acc-4294-9ba4-723662d49377",
   "metadata": {},
   "source": [
    "y que es axis=2?"
   ]
  },
  {
   "cell_type": "code",
   "execution_count": 40,
   "id": "58c24d12-6b28-4e67-a481-69220149243f",
   "metadata": {},
   "outputs": [
    {
     "name": "stdout",
     "output_type": "stream",
     "text": [
      "Matrix A\n",
      "[[1. 2.]\n",
      " [3. 4.]]\n",
      "Matrix B\n",
      "[[5. 6.]\n",
      " [7. 8.]]\n"
     ]
    }
   ],
   "source": [
    "a = np.array([[1, 2], [3, 4]], float) # crear una matriz de dos dimensiones tipo float\n",
    "b = np.array([[5, 6], [7,8]], float)\n",
    "\n",
    "print('Matrix A')\n",
    "print(a)\n",
    "print('Matrix B')\n",
    "print(b)"
   ]
  },
  {
   "cell_type": "code",
   "execution_count": 41,
   "id": "643ca8f6-c2a0-4dd6-9b70-bd46c9203430",
   "metadata": {},
   "outputs": [
    {
     "data": {
      "text/plain": [
       "array([[1., 2.],\n",
       "       [3., 4.],\n",
       "       [5., 6.],\n",
       "       [7., 8.]])"
      ]
     },
     "execution_count": 41,
     "metadata": {},
     "output_type": "execute_result"
    }
   ],
   "source": [
    "np.concatenate((a,b)) # unir las dos matrices"
   ]
  },
  {
   "cell_type": "code",
   "execution_count": 42,
   "id": "68e732b6-df8a-4f34-830b-3f902493eb6f",
   "metadata": {},
   "outputs": [
    {
     "data": {
      "text/plain": [
       "array([[1., 2., 5., 6.],\n",
       "       [3., 4., 7., 8.]])"
      ]
     },
     "execution_count": 42,
     "metadata": {},
     "output_type": "execute_result"
    }
   ],
   "source": [
    "np.concatenate((a,b), axis=1) # unir las dos matrices\n"
   ]
  }
 ],
 "metadata": {
  "kernelspec": {
   "display_name": "Python [conda env:jupyterlab-xx] *",
   "language": "python",
   "name": "conda-env-jupyterlab-xx-py"
  },
  "language_info": {
   "codemirror_mode": {
    "name": "ipython",
    "version": 3
   },
   "file_extension": ".py",
   "mimetype": "text/x-python",
   "name": "python",
   "nbconvert_exporter": "python",
   "pygments_lexer": "ipython3",
   "version": "3.11.0"
  }
 },
 "nbformat": 4,
 "nbformat_minor": 5
}
