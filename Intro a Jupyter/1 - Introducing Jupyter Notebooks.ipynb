{
 "cells": [
  {
   "cell_type": "markdown",
   "metadata": {},
   "source": [
    "## Jupyter Notebooks"
   ]
  },
  {
   "cell_type": "markdown",
   "metadata": {},
   "source": [
    "In this case, the notebook is a document format that contains both codes and text elements, figures, links, videos, equations, etc. As we can mix text and code in the same place, these documents are ideal places to generate and describe analyzes where both the formulation of the idea, the visualization of the result and the description of the result can be done in the same place."
   ]
  },
  {
   "cell_type": "markdown",
   "metadata": {},
   "source": [
    "## Cells"
   ]
  },
  {
   "cell_type": "markdown",
   "metadata": {},
   "source": [
    "This is a text cell. Text cells accept Markdown format. Markdown is a very useful way of formating text, like adding **bold** and _italic_ format. Check [this awesome cheat sheet](https://www.markdownguide.org/cheat-sheet/) to learn more about it.\n",
    "\n",
    "In a code cell we can use Python as we used in any script:"
   ]
  },
  {
   "cell_type": "code",
   "execution_count": null,
   "metadata": {},
   "outputs": [],
   "source": [
    "# this is a cell that contains code\n",
    "\n",
    "import matplotlib.pyplot as plt\n",
    "%matplotlib inline"
   ]
  },
  {
   "cell_type": "markdown",
   "metadata": {},
   "source": [
    "Each cell is an isolated environment that can be run separately. You can run each cell individually and in the sequence you want, but the variables it uses must be referenced before use."
   ]
  },
  {
   "cell_type": "code",
   "execution_count": null,
   "metadata": {},
   "outputs": [],
   "source": [
    "for i in range(0, 10):\n",
    "    print(i)"
   ]
  },
  {
   "cell_type": "markdown",
   "metadata": {},
   "source": [
    "## Annotating mathematical expressions\n",
    "\n",
    "It is also possible to use mathematical expressions along with the text. This is very useful when you have a mathematical explanation needed is going to be written as code. Writing is done in the same way as in [LaTeX](https://en.wikibooks.org/wiki/LaTeX/Mathematics):\n",
    "\n",
    "$$c = \\sqrt{a^2 + b^2}$$"
   ]
  },
  {
   "cell_type": "markdown",
   "metadata": {},
   "source": [
    "## Data Viz\n",
    "\n",
    "In the first cell, we put a `%matplotlib inline` command, right? This is one of the \"magics\" available in Jupyter that allows the graphics of matplotlib to be presented inside the notebook itself, as we can see below:"
   ]
  },
  {
   "cell_type": "code",
   "execution_count": null,
   "metadata": {},
   "outputs": [],
   "source": [
    "plt.plot(range(0,100))"
   ]
  },
  {
   "cell_type": "markdown",
   "metadata": {},
   "source": [
    "## Videos\n",
    "\n",
    "We can also insert Youtube videos as part of the logical explanation sequence:"
   ]
  },
  {
   "cell_type": "code",
   "execution_count": null,
   "metadata": {},
   "outputs": [],
   "source": [
    "from IPython.display import YouTubeVideo\n",
    "\n",
    "YouTubeVideo('qrSt5fTFxPk')"
   ]
  },
  {
   "cell_type": "markdown",
   "metadata": {},
   "source": [
    "## Notebooks in Oceanography\n",
    "\n",
    "[Twelve Steps to Navier-Stokes by Lorena Barba](https://lorenabarba.com/blog/cfd-python-12-steps-to-navier-stokes/)"
   ]
  }
 ],
 "metadata": {
  "kernelspec": {
   "display_name": "Python 3",
   "language": "python",
   "name": "python3"
  },
  "language_info": {
   "codemirror_mode": {
    "name": "ipython",
    "version": 3
   },
   "file_extension": ".py",
   "mimetype": "text/x-python",
   "name": "python",
   "nbconvert_exporter": "python",
   "pygments_lexer": "ipython3",
   "version": "3.6.7"
  }
 },
 "nbformat": 4,
 "nbformat_minor": 4
}
