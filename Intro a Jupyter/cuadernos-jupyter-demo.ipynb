{
 "cells": [
  {
   "cell_type": "markdown",
   "id": "d12f445a-a996-48ed-9193-db7efb460e33",
   "metadata": {},
   "source": [
    "# Demostración del cuaderno (*notebook*) Jupyter"
   ]
  },
  {
   "cell_type": "markdown",
   "id": "bd3a8d33-09b3-4e16-97ee-78240cd88a82",
   "metadata": {},
   "source": [
    "Esta breve demostración muestra varios de los elementos y capacidades más importantes de los cuadernos Jupyter.\n",
    "\n",
    "Para ayudar a navegar el cuaderno, este cuaderno divide el contenido (las celdas) en secciones por medio de encabezados en **Markdown**."
   ]
  },
  {
   "cell_type": "markdown",
   "id": "51c6d86a-782e-49cf-9aad-e3a0614ecd00",
   "metadata": {},
   "source": [
    "## Importar bibliotecas\n",
    "\n",
    "Aquí importamos las bibliotecas o paquetes que usaremos en este cuadernos.\n",
    "\n",
    "Una celda de código puede incluir múltiples declaraciones."
   ]
  },
  {
   "cell_type": "code",
   "execution_count": 1,
   "id": "1d57e375-9073-457d-9931-59a3b011b5ac",
   "metadata": {},
   "outputs": [],
   "source": [
    "import numpy as np\n",
    "import matplotlib.pyplot as plt"
   ]
  },
  {
   "cell_type": "markdown",
   "id": "25903fab-5574-4aff-8c81-92c3f1c63b58",
   "metadata": {},
   "source": [
    "## Definir las variables x e y"
   ]
  },
  {
   "cell_type": "markdown",
   "id": "5605886e-b120-410a-8a31-66d3908a9218",
   "metadata": {},
   "source": [
    "Definimos las variables `x` e `y`, donde `y` es el `seno` de `x`. Podemos mostrar esta relación en Markdown usando la sintaxis de la [biblioteca MathJax](https://es.wikipedia.org/wiki/MathJax), que viene integrada en Jupyter:\n",
    "\n",
    "$\n",
    "y = seno(x)\n",
    "$"
   ]
  },
  {
   "cell_type": "markdown",
   "id": "531a674a-c5a2-4a92-bb5b-4041e0b7fb42",
   "metadata": {},
   "source": [
    "Utilizaremos la biblioteca `numpy` de computación científica en **arreglos** (*arrays*) para definir las dos variables. Un arreglo numpy es similar a la lista normal de Python, pero almacena y opera con datos homogéneos, del mismo tipo.\n",
    "\n",
    "Las variables creadas en una celda quedan disponibles a las celdas siguientes.\n",
    "\n",
    "Aquí, `x` es creado como un rango entre 0 y 10, con paso (*step*) de 0.1."
   ]
  },
  {
   "cell_type": "code",
   "execution_count": 2,
   "id": "57cb3514-13c9-4ddf-a53f-2293c2b2add4",
   "metadata": {},
   "outputs": [],
   "source": [
    "x = np.arange(0, 10, 0.1)\n",
    "y = np.sin(x)"
   ]
  },
  {
   "cell_type": "markdown",
   "id": "b6cc0d80-a755-47ae-b53a-6ff1f18b6833",
   "metadata": {},
   "source": [
    "Podemos examinar los valores de estos arreglos fácilmente, ya sea con una declaración de la variable o utilizando la función `print`."
   ]
  },
  {
   "cell_type": "code",
   "execution_count": 3,
   "id": "2e5993d0-c4c6-44d2-b4a8-844a999b60b6",
   "metadata": {},
   "outputs": [
    {
     "data": {
      "text/plain": [
       "array([0. , 0.1, 0.2, 0.3, 0.4, 0.5, 0.6, 0.7, 0.8, 0.9, 1. , 1.1, 1.2,\n",
       "       1.3, 1.4, 1.5, 1.6, 1.7, 1.8, 1.9, 2. , 2.1, 2.2, 2.3, 2.4, 2.5,\n",
       "       2.6, 2.7, 2.8, 2.9, 3. , 3.1, 3.2, 3.3, 3.4, 3.5, 3.6, 3.7, 3.8,\n",
       "       3.9, 4. , 4.1, 4.2, 4.3, 4.4, 4.5, 4.6, 4.7, 4.8, 4.9, 5. , 5.1,\n",
       "       5.2, 5.3, 5.4, 5.5, 5.6, 5.7, 5.8, 5.9, 6. , 6.1, 6.2, 6.3, 6.4,\n",
       "       6.5, 6.6, 6.7, 6.8, 6.9, 7. , 7.1, 7.2, 7.3, 7.4, 7.5, 7.6, 7.7,\n",
       "       7.8, 7.9, 8. , 8.1, 8.2, 8.3, 8.4, 8.5, 8.6, 8.7, 8.8, 8.9, 9. ,\n",
       "       9.1, 9.2, 9.3, 9.4, 9.5, 9.6, 9.7, 9.8, 9.9])"
      ]
     },
     "execution_count": 3,
     "metadata": {},
     "output_type": "execute_result"
    }
   ],
   "source": [
    "x"
   ]
  },
  {
   "cell_type": "code",
   "execution_count": 4,
   "id": "e7c0a616-2d18-4701-afb8-5a36a8e446ae",
   "metadata": {},
   "outputs": [
    {
     "name": "stdout",
     "output_type": "stream",
     "text": [
      "[0.         0.09983342 0.19866933]\n"
     ]
    }
   ],
   "source": [
    "print(y[:3])"
   ]
  },
  {
   "cell_type": "markdown",
   "id": "7bcf5452-9582-4ffc-874e-5abf241a2474",
   "metadata": {},
   "source": [
    "Markdown permite crear y mostrar información en tablas. Este código Markdown con los primeros valores de nuestra ecuación:\n",
    "\n",
    "```markdown\n",
    "| x | seno(x) |\n",
    "|---|---|\n",
    "|0.0|0.0|\n",
    "|0.1|0.09983342|\n",
    "|0.2|0.19866933|\n",
    "|...|...|\n",
    "```\n",
    "\n",
    "produce esta tabla formateada:\n",
    "\n",
    "| x | seno(x) |\n",
    "|:---|:---|\n",
    "|0.0|0.0|\n",
    "|0.1|0.09983342|\n",
    "|0.2|0.19866933|\n",
    "|...|...|"
   ]
  },
  {
   "cell_type": "markdown",
   "id": "526815e7-1595-4af6-9d00-408d8de20f75",
   "metadata": {},
   "source": [
    "## Graficar los datos\n",
    "\n",
    "Finalmente, utilizamos la biblioteca `matplotlib` para gráficar los datos, personalizando el color, marcador, tamaño del marcador, y etiquetas de los ejes.\n",
    "\n",
    "La gráfica es presentada directamente en el cuaderno, como un resultado."
   ]
  },
  {
   "cell_type": "code",
   "execution_count": 5,
   "id": "cc339897-3862-4b9d-9b5f-84abd2823f3a",
   "metadata": {},
   "outputs": [
    {
     "data": {
      "image/png": "[encoded data removed]",
      "text/plain": [
       "<Figure size 500x200 with 1 Axes>"
      ]
     },
     "metadata": {},
     "output_type": "display_data"
    }
   ],
   "source": [
    "plt.figure(figsize=(5,2))\n",
    "plt.plot(x, y, color='green', marker='o', markersize=3)\n",
    "plt.xlabel('Ángulo (radián)')\n",
    "plt.ylabel('seno(x)')\n",
    "plt.show()"
   ]
  },
  {
   "cell_type": "markdown",
   "id": "74d75b72-f737-4717-9e27-029dce7662c1",
   "metadata": {},
   "source": [
    "Con Markdown podemos comparar ese gráfico a uno equivalente [tomado de Wikipedia](https://es.wikipedia.org/wiki/Seno_(trigonometr%C3%ADa)):\n",
    "\n",
    "![grafica de seno, wikipedia](imagenes/wikipedia-590px-Sine.svg.png)"
   ]
  },
  {
   "cell_type": "markdown",
   "id": "6a55bb98-17c9-45fb-a9db-b64355f59851",
   "metadata": {},
   "source": [
    "## Trucos útiles"
   ]
  },
  {
   "cell_type": "markdown",
   "id": "013f9a1b-9b73-4f97-85e2-0e9cdebe8708",
   "metadata": {},
   "source": [
    "### Comandos mágicos"
   ]
  },
  {
   "cell_type": "markdown",
   "id": "2bcd0bf4-29dd-4c8f-9698-037db53ccd86",
   "metadata": {},
   "source": [
    "Jupyter suministra unos comandos especiales llamados \"comandos mágicos\", ue consisten en funciones adicionales muy útiles para resolver necesidades comunes y repetitivas. Hay dos tipos de comandos mágicos: los comandos que comienzan con `%` que afectan a una única línea de una celda (donde se inserta el comando) y aquellos comandos que comienzan con `%%` y se aplican a toda la celda.\n",
    "\n",
    "Por ejemplo, el comando mágico `%whos` muestra todas las variables que han sido definidas en el cuaderno, junto con alguna información sobre ellas:"
   ]
  },
  {
   "cell_type": "code",
   "execution_count": 6,
   "id": "300e81b1-3d72-4f0c-9ff7-08acef514024",
   "metadata": {},
   "outputs": [
    {
     "name": "stdout",
     "output_type": "stream",
     "text": [
      "Variable   Type       Data/Info\n",
      "-------------------------------\n",
      "np         module     <module 'numpy' from '/ho<...>kages/numpy/__init__.py'>\n",
      "plt        module     <module 'matplotlib.pyplo<...>es/matplotlib/pyplot.py'>\n",
      "x          ndarray    100: 100 elems, type `float64`, 800 bytes\n",
      "y          ndarray    100: 100 elems, type `float64`, 800 bytes\n"
     ]
    }
   ],
   "source": [
    "%whos"
   ]
  },
  {
   "cell_type": "markdown",
   "id": "4fcc4385-8a82-4a42-b6e9-8b5921c33a98",
   "metadata": {},
   "source": [
    "### Autocompletación"
   ]
  },
  {
   "cell_type": "markdown",
   "id": "2150c6f7-fcce-4960-b767-a7a3702882b6",
   "metadata": {},
   "source": [
    "Las funciones, objetos y variables que utilizamos comúnmente contienen muchos métodos o propiedades. El cuaderno Jupyter suministra un mecanismo de autocompletado, accedido presionando la tecla `Tab` luego del nombre de la variable u objecto (o después del *punto* que divide un objecto y sus métodos o propiedades). Esto nos mostrará un menú desplegable con todas las sugerencias, por ejemplo, para nuestra variable `x`:\n",
    "\n",
    "![Muestra de autocompletacion](imagenes/cuaderno-autocompletacion.png)"
   ]
  },
  {
   "cell_type": "markdown",
   "id": "66c63e52-9d23-402d-983e-0cb49b51c00d",
   "metadata": {},
   "source": [
    "### Descripción de funciones o métodos"
   ]
  },
  {
   "cell_type": "markdown",
   "id": "ff5a2a0f-979d-4699-800b-dd5dc756355f",
   "metadata": {},
   "source": [
    "Similar al mecanismo de autocompletado, presionando la secuencia de teclas `Shift + Tab` luego del nombre de una función o método nos revela su texto descriptivo en una ventana desplegable. Por ejemplo, para la función `np.sin` que hemos utilizado:\n",
    "\n",
    "![Muestra de cadenas de docs](imagenes/cuaderno-docstring.png)"
   ]
  },
  {
   "cell_type": "code",
   "execution_count": null,
   "id": "34d4424d-75e1-4a23-8237-1ab21db48b05",
   "metadata": {},
   "outputs": [],
   "source": []
  }
 ],
 "metadata": {
  "kernelspec": {
   "display_name": "Python [conda env:jupyterlab-xx] *",
   "language": "python",
   "name": "conda-env-jupyterlab-xx-py"
  },
  "language_info": {
   "codemirror_mode": {
    "name": "ipython",
    "version": 3
   },
   "file_extension": ".py",
   "mimetype": "text/x-python",
   "name": "python",
   "nbconvert_exporter": "python",
   "pygments_lexer": "ipython3",
   "version": "3.11.0"
  }
 },
 "nbformat": 4,
 "nbformat_minor": 5
}
