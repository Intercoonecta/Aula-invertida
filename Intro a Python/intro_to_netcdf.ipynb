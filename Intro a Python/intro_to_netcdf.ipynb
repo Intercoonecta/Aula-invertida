{
 "cells": [
  {
   "cell_type": "code",
   "execution_count": 1,
   "id": "2bfe3a98-5c6e-4727-b0ab-541a43ac7c44",
   "metadata": {},
   "outputs": [],
   "source": [
    "# Como leer un archivo netCDF"
   ]
  },
  {
   "cell_type": "code",
   "execution_count": 1,
   "id": "c8e6a8ea-2eb4-4784-9906-b5d0e6221f23",
   "metadata": {},
   "outputs": [],
   "source": [
    "import netCDF4 as nc # 4 es solo la versión de netcdf"
   ]
  },
  {
   "cell_type": "code",
   "execution_count": 2,
   "id": "37508f06-5eb7-46f8-8ef6-bab0b368d2a2",
   "metadata": {},
   "outputs": [],
   "source": [
    "fileobj = nc.Dataset('shared/ERA5/ERA5_Coarse.nc')"
   ]
  },
  {
   "cell_type": "code",
   "execution_count": 3,
   "id": "45ac8154-8e12-405d-9701-913f0bc2d781",
   "metadata": {},
   "outputs": [
    {
     "name": "stdout",
     "output_type": "stream",
     "text": [
      "dict_keys(['u10', 'v10', 'sst', 'sp', 't2m', 'tp', 't2m_F', 'longitude', 'latitude', 'time'])\n"
     ]
    }
   ],
   "source": [
    "print(fileobj.variables.keys())"
   ]
  },
  {
   "cell_type": "code",
   "execution_count": 4,
   "id": "f81bd797-66c4-4227-974b-030acb6dfaaf",
   "metadata": {},
   "outputs": [],
   "source": [
    "lon = fileobj['longitude']\n",
    "lat = fileobj['latitude']"
   ]
  },
  {
   "cell_type": "code",
   "execution_count": null,
   "id": "cec8f2f1-164a-4990-b479-fce26f90e2b2",
   "metadata": {},
   "outputs": [],
   "source": []
  }
 ],
 "metadata": {
  "kernelspec": {
   "display_name": "Python [conda env:root] *",
   "language": "python",
   "name": "conda-root-py"
  },
  "language_info": {
   "codemirror_mode": {
    "name": "ipython",
    "version": 3
   },
   "file_extension": ".py",
   "mimetype": "text/x-python",
   "name": "python",
   "nbconvert_exporter": "python",
   "pygments_lexer": "ipython3",
   "version": "3.9.13"
  }
 },
 "nbformat": 4,
 "nbformat_minor": 5
}
